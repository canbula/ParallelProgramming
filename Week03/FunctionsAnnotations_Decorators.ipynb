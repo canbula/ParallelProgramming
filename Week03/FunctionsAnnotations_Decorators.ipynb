{
 "cells": [
  {
   "cell_type": "code",
   "execution_count": 1,
   "metadata": {},
   "outputs": [
    {
     "name": "stdout",
     "output_type": "stream",
     "text": [
      "Hi\n"
     ]
    }
   ],
   "source": [
    "print(\"Hi\")"
   ]
  },
  {
   "cell_type": "code",
   "execution_count": 2,
   "metadata": {},
   "outputs": [],
   "source": [
    "def fn(arg1 = 0, arg2 = 0):\n",
    "    return arg1 + arg2"
   ]
  },
  {
   "cell_type": "code",
   "execution_count": 3,
   "metadata": {},
   "outputs": [
    {
     "data": {
      "text/plain": [
       "8"
      ]
     },
     "execution_count": 3,
     "metadata": {},
     "output_type": "execute_result"
    }
   ],
   "source": [
    "fn(3, 5)"
   ]
  },
  {
   "cell_type": "code",
   "execution_count": 4,
   "metadata": {},
   "outputs": [
    {
     "data": {
      "text/plain": [
       "3"
      ]
     },
     "execution_count": 4,
     "metadata": {},
     "output_type": "execute_result"
    }
   ],
   "source": [
    "fn(arg1=3)"
   ]
  },
  {
   "cell_type": "code",
   "execution_count": 5,
   "metadata": {},
   "outputs": [
    {
     "data": {
      "text/plain": [
       "5"
      ]
     },
     "execution_count": 5,
     "metadata": {},
     "output_type": "execute_result"
    }
   ],
   "source": [
    "fn(arg2=5)"
   ]
  },
  {
   "cell_type": "code",
   "execution_count": 6,
   "metadata": {},
   "outputs": [
    {
     "data": {
      "text/plain": [
       "8"
      ]
     },
     "execution_count": 6,
     "metadata": {},
     "output_type": "execute_result"
    }
   ],
   "source": [
    "fn(arg1=3, arg2=5)"
   ]
  },
  {
   "cell_type": "code",
   "execution_count": 7,
   "metadata": {},
   "outputs": [
    {
     "data": {
      "text/plain": [
       "0"
      ]
     },
     "execution_count": 7,
     "metadata": {},
     "output_type": "execute_result"
    }
   ],
   "source": [
    "fn()"
   ]
  },
  {
   "cell_type": "code",
   "execution_count": 8,
   "metadata": {},
   "outputs": [],
   "source": [
    "def fn(arg1 = 0, arg2 = 0, *, arg3 = 1):\n",
    "    return (arg1 + arg2) * arg3"
   ]
  },
  {
   "cell_type": "code",
   "execution_count": 9,
   "metadata": {},
   "outputs": [
    {
     "data": {
      "text/plain": [
       "16"
      ]
     },
     "execution_count": 9,
     "metadata": {},
     "output_type": "execute_result"
    }
   ],
   "source": [
    "fn(3, 5, arg3=2)"
   ]
  },
  {
   "cell_type": "code",
   "execution_count": 10,
   "metadata": {},
   "outputs": [
    {
     "data": {
      "text/plain": [
       "16"
      ]
     },
     "execution_count": 10,
     "metadata": {},
     "output_type": "execute_result"
    }
   ],
   "source": [
    "fn(arg1=3, arg2=5, arg3=2)"
   ]
  },
  {
   "cell_type": "code",
   "execution_count": 11,
   "metadata": {},
   "outputs": [
    {
     "data": {
      "text/plain": [
       "16"
      ]
     },
     "execution_count": 11,
     "metadata": {},
     "output_type": "execute_result"
    }
   ],
   "source": [
    "fn(arg3=2, arg1=3, arg2=5)"
   ]
  },
  {
   "cell_type": "code",
   "execution_count": 12,
   "metadata": {},
   "outputs": [
    {
     "data": {
      "text/plain": [
       "0"
      ]
     },
     "execution_count": 12,
     "metadata": {},
     "output_type": "execute_result"
    }
   ],
   "source": [
    "fn()"
   ]
  },
  {
   "cell_type": "code",
   "execution_count": 13,
   "metadata": {},
   "outputs": [
    {
     "ename": "TypeError",
     "evalue": "fn() takes from 0 to 2 positional arguments but 3 were given",
     "output_type": "error",
     "traceback": [
      "\u001b[0;31m---------------------------------------------------------------------------\u001b[0m",
      "\u001b[0;31mTypeError\u001b[0m                                 Traceback (most recent call last)",
      "\u001b[1;32m/Users/jabba/Codes/ParallelProgramming/Week03/try.ipynb Cell 13\u001b[0m line \u001b[0;36m1\n\u001b[0;32m----> <a href='vscode-notebook-cell:/Users/jabba/Codes/ParallelProgramming/Week03/try.ipynb#X16sZmlsZQ%3D%3D?line=0'>1</a>\u001b[0m fn(\u001b[39m3\u001b[39;49m, \u001b[39m5\u001b[39;49m, \u001b[39m2\u001b[39;49m)\n",
      "\u001b[0;31mTypeError\u001b[0m: fn() takes from 0 to 2 positional arguments but 3 were given"
     ]
    }
   ],
   "source": [
    "fn(3, 5, 2)"
   ]
  },
  {
   "cell_type": "code",
   "execution_count": 14,
   "metadata": {},
   "outputs": [
    {
     "data": {
      "text/plain": [
       "8"
      ]
     },
     "execution_count": 14,
     "metadata": {},
     "output_type": "execute_result"
    }
   ],
   "source": [
    "fn(3, 5)"
   ]
  },
  {
   "cell_type": "code",
   "execution_count": 15,
   "metadata": {},
   "outputs": [],
   "source": [
    "def fn(arg1=0, arg2=0, /, arg3=1, arg4=1, *, arg5=1, arg6=1):\n",
    "    return (arg1 + arg2) * arg3 / arg4 * arg5**arg6"
   ]
  },
  {
   "cell_type": "code",
   "execution_count": 16,
   "metadata": {},
   "outputs": [
    {
     "data": {
      "text/plain": [
       "0.0"
      ]
     },
     "execution_count": 16,
     "metadata": {},
     "output_type": "execute_result"
    }
   ],
   "source": [
    "fn()"
   ]
  },
  {
   "cell_type": "code",
   "execution_count": 17,
   "metadata": {},
   "outputs": [
    {
     "data": {
      "text/plain": [
       "3.0"
      ]
     },
     "execution_count": 17,
     "metadata": {},
     "output_type": "execute_result"
    }
   ],
   "source": [
    "fn(3)"
   ]
  },
  {
   "cell_type": "code",
   "execution_count": 18,
   "metadata": {},
   "outputs": [
    {
     "data": {
      "text/plain": [
       "8.0"
      ]
     },
     "execution_count": 18,
     "metadata": {},
     "output_type": "execute_result"
    }
   ],
   "source": [
    "fn(3, 5)"
   ]
  },
  {
   "cell_type": "code",
   "execution_count": 19,
   "metadata": {},
   "outputs": [
    {
     "data": {
      "text/plain": [
       "16.0"
      ]
     },
     "execution_count": 19,
     "metadata": {},
     "output_type": "execute_result"
    }
   ],
   "source": [
    "fn(3, 5, 2)"
   ]
  },
  {
   "cell_type": "code",
   "execution_count": 20,
   "metadata": {},
   "outputs": [
    {
     "data": {
      "text/plain": [
       "4.0"
      ]
     },
     "execution_count": 20,
     "metadata": {},
     "output_type": "execute_result"
    }
   ],
   "source": [
    "fn(3, 5, 2, 4)"
   ]
  },
  {
   "cell_type": "code",
   "execution_count": 21,
   "metadata": {},
   "outputs": [
    {
     "ename": "TypeError",
     "evalue": "fn() takes from 0 to 4 positional arguments but 5 were given",
     "output_type": "error",
     "traceback": [
      "\u001b[0;31m---------------------------------------------------------------------------\u001b[0m",
      "\u001b[0;31mTypeError\u001b[0m                                 Traceback (most recent call last)",
      "\u001b[1;32m/Users/jabba/Codes/ParallelProgramming/Week03/try.ipynb Cell 21\u001b[0m line \u001b[0;36m1\n\u001b[0;32m----> <a href='vscode-notebook-cell:/Users/jabba/Codes/ParallelProgramming/Week03/try.ipynb#X30sZmlsZQ%3D%3D?line=0'>1</a>\u001b[0m fn(\u001b[39m3\u001b[39;49m, \u001b[39m5\u001b[39;49m, \u001b[39m2\u001b[39;49m, \u001b[39m4\u001b[39;49m, \u001b[39m7\u001b[39;49m)\n",
      "\u001b[0;31mTypeError\u001b[0m: fn() takes from 0 to 4 positional arguments but 5 were given"
     ]
    }
   ],
   "source": [
    "fn(3, 5, 2, 4, 7)"
   ]
  },
  {
   "cell_type": "code",
   "execution_count": 22,
   "metadata": {},
   "outputs": [
    {
     "ename": "TypeError",
     "evalue": "fn() takes from 0 to 4 positional arguments but 6 were given",
     "output_type": "error",
     "traceback": [
      "\u001b[0;31m---------------------------------------------------------------------------\u001b[0m",
      "\u001b[0;31mTypeError\u001b[0m                                 Traceback (most recent call last)",
      "\u001b[1;32m/Users/jabba/Codes/ParallelProgramming/Week03/try.ipynb Cell 22\u001b[0m line \u001b[0;36m1\n\u001b[0;32m----> <a href='vscode-notebook-cell:/Users/jabba/Codes/ParallelProgramming/Week03/try.ipynb#X31sZmlsZQ%3D%3D?line=0'>1</a>\u001b[0m fn(\u001b[39m3\u001b[39;49m, \u001b[39m5\u001b[39;49m, \u001b[39m2\u001b[39;49m, \u001b[39m4\u001b[39;49m, \u001b[39m7\u001b[39;49m, \u001b[39m8\u001b[39;49m)\n",
      "\u001b[0;31mTypeError\u001b[0m: fn() takes from 0 to 4 positional arguments but 6 were given"
     ]
    }
   ],
   "source": [
    "fn(3, 5, 2, 4, 7, 8)"
   ]
  },
  {
   "cell_type": "code",
   "execution_count": 23,
   "metadata": {},
   "outputs": [
    {
     "data": {
      "text/plain": [
       "23059204.0"
      ]
     },
     "execution_count": 23,
     "metadata": {},
     "output_type": "execute_result"
    }
   ],
   "source": [
    "fn(3, 5, 2, 4, arg5=7, arg6=8)"
   ]
  },
  {
   "cell_type": "code",
   "execution_count": 24,
   "metadata": {},
   "outputs": [
    {
     "data": {
      "text/plain": [
       "23059204.0"
      ]
     },
     "execution_count": 24,
     "metadata": {},
     "output_type": "execute_result"
    }
   ],
   "source": [
    "fn(3, 5, arg3=2, arg4=4, arg5=7, arg6=8)"
   ]
  },
  {
   "cell_type": "code",
   "execution_count": 25,
   "metadata": {},
   "outputs": [
    {
     "ename": "TypeError",
     "evalue": "fn() got some positional-only arguments passed as keyword arguments: 'arg1, arg2'",
     "output_type": "error",
     "traceback": [
      "\u001b[0;31m---------------------------------------------------------------------------\u001b[0m",
      "\u001b[0;31mTypeError\u001b[0m                                 Traceback (most recent call last)",
      "\u001b[1;32m/Users/jabba/Codes/ParallelProgramming/Week03/try.ipynb Cell 25\u001b[0m line \u001b[0;36m1\n\u001b[0;32m----> <a href='vscode-notebook-cell:/Users/jabba/Codes/ParallelProgramming/Week03/try.ipynb#X34sZmlsZQ%3D%3D?line=0'>1</a>\u001b[0m fn(arg1\u001b[39m=\u001b[39;49m\u001b[39m3\u001b[39;49m, arg2\u001b[39m=\u001b[39;49m\u001b[39m5\u001b[39;49m, arg3\u001b[39m=\u001b[39;49m\u001b[39m2\u001b[39;49m, arg4\u001b[39m=\u001b[39;49m\u001b[39m4\u001b[39;49m, arg5\u001b[39m=\u001b[39;49m\u001b[39m7\u001b[39;49m, arg6\u001b[39m=\u001b[39;49m\u001b[39m8\u001b[39;49m)\n",
      "\u001b[0;31mTypeError\u001b[0m: fn() got some positional-only arguments passed as keyword arguments: 'arg1, arg2'"
     ]
    }
   ],
   "source": [
    "fn(arg1=3, arg2=5, arg3=2, arg4=4, arg5=7, arg6=8)"
   ]
  },
  {
   "cell_type": "code",
   "execution_count": 26,
   "metadata": {},
   "outputs": [],
   "source": [
    "def fn(*args, **kwargs):\n",
    "    print(args)\n",
    "    print(kwargs)"
   ]
  },
  {
   "cell_type": "code",
   "execution_count": 27,
   "metadata": {},
   "outputs": [
    {
     "name": "stdout",
     "output_type": "stream",
     "text": [
      "(3, 5, 2, 4, 7, 8)\n",
      "{}\n"
     ]
    }
   ],
   "source": [
    "fn(3, 5, 2, 4, 7, 8)"
   ]
  },
  {
   "cell_type": "code",
   "execution_count": 28,
   "metadata": {},
   "outputs": [
    {
     "name": "stdout",
     "output_type": "stream",
     "text": [
      "()\n",
      "{'arg1': 3, 'arg2': 5, 'arg3': 2, 'arg4': 4, 'arg5': 7, 'arg6': 8}\n"
     ]
    }
   ],
   "source": [
    "fn(arg1=3, arg2=5, arg3=2, arg4=4, arg5=7, arg6=8)"
   ]
  },
  {
   "cell_type": "code",
   "execution_count": 29,
   "metadata": {},
   "outputs": [
    {
     "name": "stdout",
     "output_type": "stream",
     "text": [
      "(3, 5)\n",
      "{'arg3': 2, 'arg4': 4, 'arg5': 7, 'arg6': 8}\n"
     ]
    }
   ],
   "source": [
    "fn(3, 5, arg3=2, arg4=4, arg5=7, arg6=8)"
   ]
  },
  {
   "cell_type": "code",
   "execution_count": 30,
   "metadata": {},
   "outputs": [
    {
     "ename": "SyntaxError",
     "evalue": "positional argument follows keyword argument (1342385217.py, line 1)",
     "output_type": "error",
     "traceback": [
      "\u001b[0;36m  Cell \u001b[0;32mIn[30], line 1\u001b[0;36m\u001b[0m\n\u001b[0;31m    fn(3, 5, 2, 4, arg5=7, arg6=8, 1, 2, 3)\u001b[0m\n\u001b[0m                                          ^\u001b[0m\n\u001b[0;31mSyntaxError\u001b[0m\u001b[0;31m:\u001b[0m positional argument follows keyword argument\n"
     ]
    }
   ],
   "source": [
    "fn(3, 5, 2, 4, arg5=7, arg6=8, 1, 2, 3)"
   ]
  },
  {
   "cell_type": "code",
   "execution_count": 31,
   "metadata": {},
   "outputs": [
    {
     "name": "stdout",
     "output_type": "stream",
     "text": [
      "()\n",
      "{}\n"
     ]
    }
   ],
   "source": [
    "fn()"
   ]
  },
  {
   "cell_type": "code",
   "execution_count": null,
   "metadata": {},
   "outputs": [],
   "source": [
    "def fn(arg1, arg2, /, arg3, arg4, *, arg5, arg6, *args, **kwargs):\n",
    "    print(arg1, arg2, arg3, arg4, args, arg5, arg6, kwargs)"
   ]
  },
  {
   "cell_type": "code",
   "execution_count": 32,
   "metadata": {},
   "outputs": [],
   "source": [
    "def fn():\n",
    "    pass"
   ]
  },
  {
   "cell_type": "code",
   "execution_count": 33,
   "metadata": {},
   "outputs": [
    {
     "data": {
      "text/plain": [
       "['__annotations__',\n",
       " '__builtins__',\n",
       " '__call__',\n",
       " '__class__',\n",
       " '__closure__',\n",
       " '__code__',\n",
       " '__defaults__',\n",
       " '__delattr__',\n",
       " '__dict__',\n",
       " '__dir__',\n",
       " '__doc__',\n",
       " '__eq__',\n",
       " '__format__',\n",
       " '__ge__',\n",
       " '__get__',\n",
       " '__getattribute__',\n",
       " '__getstate__',\n",
       " '__globals__',\n",
       " '__gt__',\n",
       " '__hash__',\n",
       " '__init__',\n",
       " '__init_subclass__',\n",
       " '__kwdefaults__',\n",
       " '__le__',\n",
       " '__lt__',\n",
       " '__module__',\n",
       " '__name__',\n",
       " '__ne__',\n",
       " '__new__',\n",
       " '__qualname__',\n",
       " '__reduce__',\n",
       " '__reduce_ex__',\n",
       " '__repr__',\n",
       " '__setattr__',\n",
       " '__sizeof__',\n",
       " '__str__',\n",
       " '__subclasshook__',\n",
       " '__type_params__']"
      ]
     },
     "execution_count": 33,
     "metadata": {},
     "output_type": "execute_result"
    }
   ],
   "source": [
    "dir(fn)"
   ]
  },
  {
   "cell_type": "code",
   "execution_count": 34,
   "metadata": {},
   "outputs": [
    {
     "data": {
      "text/plain": [
       "{}"
      ]
     },
     "execution_count": 34,
     "metadata": {},
     "output_type": "execute_result"
    }
   ],
   "source": [
    "getattr(fn, '__annotations__')"
   ]
  },
  {
   "cell_type": "code",
   "execution_count": 35,
   "metadata": {},
   "outputs": [],
   "source": [
    "def fn(arg1: int = 0, arg2: int = 0) -> int:\n",
    "    return arg1 + arg2"
   ]
  },
  {
   "cell_type": "code",
   "execution_count": 36,
   "metadata": {},
   "outputs": [
    {
     "data": {
      "text/plain": [
       "{'arg1': int, 'arg2': int, 'return': int}"
      ]
     },
     "execution_count": 36,
     "metadata": {},
     "output_type": "execute_result"
    }
   ],
   "source": [
    "getattr(fn, '__annotations__')"
   ]
  },
  {
   "cell_type": "code",
   "execution_count": 37,
   "metadata": {},
   "outputs": [],
   "source": [
    "getattr(fn, '__kwdefaults__')"
   ]
  },
  {
   "cell_type": "code",
   "execution_count": 38,
   "metadata": {},
   "outputs": [
    {
     "data": {
      "text/plain": [
       "(0, 0)"
      ]
     },
     "execution_count": 38,
     "metadata": {},
     "output_type": "execute_result"
    }
   ],
   "source": [
    "getattr(fn, '__defaults__')"
   ]
  },
  {
   "cell_type": "code",
   "execution_count": 40,
   "metadata": {},
   "outputs": [
    {
     "data": {
      "text/plain": [
       "<function function.__sizeof__()>"
      ]
     },
     "execution_count": 40,
     "metadata": {},
     "output_type": "execute_result"
    }
   ],
   "source": [
    "getattr(fn, '__sizeof__')"
   ]
  },
  {
   "cell_type": "code",
   "execution_count": 41,
   "metadata": {},
   "outputs": [],
   "source": [
    "def fn():\n",
    "    fn.name = 'Bora'\n",
    "    fn.age = 38\n",
    "    print(fn.name, fn.age)"
   ]
  },
  {
   "cell_type": "code",
   "execution_count": 42,
   "metadata": {},
   "outputs": [
    {
     "name": "stdout",
     "output_type": "stream",
     "text": [
      "Bora 38\n"
     ]
    }
   ],
   "source": [
    "fn()"
   ]
  },
  {
   "cell_type": "code",
   "execution_count": 43,
   "metadata": {},
   "outputs": [
    {
     "data": {
      "text/plain": [
       "True"
      ]
     },
     "execution_count": 43,
     "metadata": {},
     "output_type": "execute_result"
    }
   ],
   "source": [
    "hasattr(fn, 'name')"
   ]
  },
  {
   "cell_type": "code",
   "execution_count": 44,
   "metadata": {},
   "outputs": [
    {
     "data": {
      "text/plain": [
       "False"
      ]
     },
     "execution_count": 44,
     "metadata": {},
     "output_type": "execute_result"
    }
   ],
   "source": [
    "hasattr(fn, 'gender')"
   ]
  },
  {
   "cell_type": "code",
   "execution_count": 45,
   "metadata": {},
   "outputs": [],
   "source": [
    "setattr(fn, 'gender', 'male')"
   ]
  },
  {
   "cell_type": "code",
   "execution_count": 46,
   "metadata": {},
   "outputs": [
    {
     "data": {
      "text/plain": [
       "'male'"
      ]
     },
     "execution_count": 46,
     "metadata": {},
     "output_type": "execute_result"
    }
   ],
   "source": [
    "getattr(fn, 'gender')"
   ]
  },
  {
   "cell_type": "code",
   "execution_count": 68,
   "metadata": {},
   "outputs": [],
   "source": [
    "def fn():\n",
    "    if not hasattr(fn, 'counter'):\n",
    "        fn.counter = 0\n",
    "    fn.counter += 1\n",
    "    if not hasattr(fn, 'callers'):\n",
    "        fn.callers = {f\"{__name__}\": 1}\n",
    "    else:\n",
    "        if __name__ in fn.callers:\n",
    "            fn.callers[__name__] += 1\n",
    "        else:\n",
    "            fn.callers[__name__] = 1\n",
    "    print(f\"This function has been called {fn.counter} times\")\n",
    "    print(f\"Callers: {fn.callers}\")"
   ]
  },
  {
   "cell_type": "code",
   "execution_count": 69,
   "metadata": {},
   "outputs": [
    {
     "name": "stdout",
     "output_type": "stream",
     "text": [
      "This function has been called 1 times\n",
      "Callers: {'__main__': 1}\n"
     ]
    }
   ],
   "source": [
    "fn()"
   ]
  },
  {
   "cell_type": "code",
   "execution_count": 70,
   "metadata": {},
   "outputs": [
    {
     "name": "stdout",
     "output_type": "stream",
     "text": [
      "This function has been called 2 times\n",
      "Callers: {'__main__': 2}\n",
      "None\n"
     ]
    }
   ],
   "source": [
    "print(fn())"
   ]
  },
  {
   "cell_type": "code",
   "execution_count": 71,
   "metadata": {},
   "outputs": [
    {
     "data": {
      "text/plain": [
       "2"
      ]
     },
     "execution_count": 71,
     "metadata": {},
     "output_type": "execute_result"
    }
   ],
   "source": [
    "fn.counter"
   ]
  },
  {
   "cell_type": "code",
   "execution_count": 74,
   "metadata": {},
   "outputs": [
    {
     "data": {
      "text/plain": [
       "{'__main__': 3}"
      ]
     },
     "execution_count": 74,
     "metadata": {},
     "output_type": "execute_result"
    }
   ],
   "source": [
    "fn.callers"
   ]
  },
  {
   "cell_type": "code",
   "execution_count": 75,
   "metadata": {},
   "outputs": [
    {
     "data": {
      "text/plain": [
       "{'counter': 3, 'callers': {'__main__': 3}}"
      ]
     },
     "execution_count": 75,
     "metadata": {},
     "output_type": "execute_result"
    }
   ],
   "source": [
    "fn.__dict__"
   ]
  },
  {
   "cell_type": "code",
   "execution_count": 109,
   "metadata": {},
   "outputs": [],
   "source": [
    "def parent_function():\n",
    "    def nested_function():\n",
    "        print(\"Nested function\")\n",
    "    print(\"Parent function\")\n",
    "    parent_function.nested_function = nested_function"
   ]
  },
  {
   "cell_type": "code",
   "execution_count": 110,
   "metadata": {},
   "outputs": [
    {
     "name": "stdout",
     "output_type": "stream",
     "text": [
      "Parent function\n",
      "Nested function\n"
     ]
    }
   ],
   "source": [
    "parent_function()\n",
    "parent_function.nested_function()"
   ]
  },
  {
   "cell_type": "code",
   "execution_count": 91,
   "metadata": {},
   "outputs": [
    {
     "name": "stdout",
     "output_type": "stream",
     "text": [
      "Nested function\n"
     ]
    }
   ],
   "source": [
    "parent_function.nested_function()"
   ]
  },
  {
   "cell_type": "code",
   "execution_count": 79,
   "metadata": {},
   "outputs": [],
   "source": [
    "def fn():\n",
    "    class MyClass:\n",
    "        var = 10\n",
    "    my_obj = MyClass()\n",
    "    print(my_obj.var)\n",
    "    print(\"function\")"
   ]
  },
  {
   "cell_type": "code",
   "execution_count": 80,
   "metadata": {},
   "outputs": [
    {
     "name": "stdout",
     "output_type": "stream",
     "text": [
      "10\n",
      "function\n"
     ]
    }
   ],
   "source": [
    "obj = fn()"
   ]
  },
  {
   "cell_type": "code",
   "execution_count": 81,
   "metadata": {},
   "outputs": [
    {
     "ename": "AttributeError",
     "evalue": "'function' object has no attribute 'MyClass'",
     "output_type": "error",
     "traceback": [
      "\u001b[0;31m---------------------------------------------------------------------------\u001b[0m",
      "\u001b[0;31mAttributeError\u001b[0m                            Traceback (most recent call last)",
      "\u001b[1;32m/Users/jabba/Codes/ParallelProgramming/Week03/try.ipynb Cell 58\u001b[0m line \u001b[0;36m1\n\u001b[0;32m----> <a href='vscode-notebook-cell:/Users/jabba/Codes/ParallelProgramming/Week03/try.ipynb#Y112sZmlsZQ%3D%3D?line=0'>1</a>\u001b[0m obj \u001b[39m=\u001b[39m fn\u001b[39m.\u001b[39;49mMyClass()\n",
      "\u001b[0;31mAttributeError\u001b[0m: 'function' object has no attribute 'MyClass'"
     ]
    }
   ],
   "source": [
    "obj = fn.MyClass()"
   ]
  },
  {
   "cell_type": "code",
   "execution_count": 103,
   "metadata": {},
   "outputs": [],
   "source": [
    "def point(x, y):\n",
    "    def set_x(new_x):\n",
    "        nonlocal x\n",
    "        x = new_x\n",
    "    def set_y(new_y):\n",
    "        nonlocal y\n",
    "        y = new_y\n",
    "    def get():\n",
    "        return x, y\n",
    "    point.set_x = set_x\n",
    "    point.set_y = set_y\n",
    "    point.get = get\n",
    "    return point"
   ]
  },
  {
   "cell_type": "code",
   "execution_count": 108,
   "metadata": {},
   "outputs": [
    {
     "data": {
      "text/plain": [
       "(10, 20)"
      ]
     },
     "execution_count": 108,
     "metadata": {},
     "output_type": "execute_result"
    }
   ],
   "source": [
    "p = point(3, 5)\n",
    "p.get()\n",
    "\n",
    "p.set_x(10)\n",
    "p.set_y(20)\n",
    "p.get()"
   ]
  },
  {
   "cell_type": "code",
   "execution_count": 106,
   "metadata": {},
   "outputs": [
    {
     "data": {
      "text/plain": [
       "(3, 5)"
      ]
     },
     "execution_count": 106,
     "metadata": {},
     "output_type": "execute_result"
    }
   ],
   "source": [
    "p.get()"
   ]
  },
  {
   "cell_type": "code",
   "execution_count": 107,
   "metadata": {},
   "outputs": [
    {
     "data": {
      "text/plain": [
       "(10, 20)"
      ]
     },
     "execution_count": 107,
     "metadata": {},
     "output_type": "execute_result"
    }
   ],
   "source": [
    "p.set_x(10)\n",
    "p.set_y(20)\n",
    "p.get()"
   ]
  },
  {
   "cell_type": "code",
   "execution_count": 113,
   "metadata": {},
   "outputs": [],
   "source": [
    "def my_decorator(fn):\n",
    "    def _my_decorator():\n",
    "        print(\"Before function\")\n",
    "        fn()\n",
    "        print(\"After function\")\n",
    "    return _my_decorator\n",
    "\n",
    "def my_decorated_function():\n",
    "    print(\"Function\")\n",
    "\n",
    "my_decorated_function = \\\n",
    "    my_decorator(my_decorated_function)"
   ]
  },
  {
   "cell_type": "code",
   "execution_count": 117,
   "metadata": {},
   "outputs": [
    {
     "name": "stdout",
     "output_type": "stream",
     "text": [
      "Before function\n",
      "Function\n",
      "After function\n"
     ]
    }
   ],
   "source": [
    "my_decorated_function()"
   ]
  },
  {
   "cell_type": "code",
   "execution_count": 115,
   "metadata": {},
   "outputs": [],
   "source": [
    "def d1(fn):\n",
    "    def _d1():\n",
    "        print(\"Before d1\")\n",
    "        fn()\n",
    "        print(\"After d1\")\n",
    "    return _d1\n",
    "\n",
    "@d1\n",
    "def f1():\n",
    "    print(\"Function\")"
   ]
  },
  {
   "cell_type": "code",
   "execution_count": 116,
   "metadata": {},
   "outputs": [
    {
     "name": "stdout",
     "output_type": "stream",
     "text": [
      "Before d1\n",
      "Function\n",
      "After d1\n"
     ]
    }
   ],
   "source": [
    "f1()"
   ]
  },
  {
   "cell_type": "code",
   "execution_count": 123,
   "metadata": {},
   "outputs": [],
   "source": [
    "def decorator(func):\n",
    "    def _decorator(*args, **kwargs):\n",
    "        print(\"I am decorator\")\n",
    "        print(args)\n",
    "        print(kwargs)\n",
    "        func(*args, **kwargs)\n",
    "    return _decorator\n",
    "\n",
    "@decorator\n",
    "def decorated_func_w_args(x):\n",
    "    print(f\"x = {x}\")\n",
    "\n",
    "@decorator\n",
    "def decorated_triple_print(\n",
    "    x=None, y=None, z=None):\n",
    "    x_str = f\"x = {x} \" \\\n",
    "        if x is not None else f\"\"\n",
    "    y_str = f\"y = {y} \" \\\n",
    "        if y is not None else f\"\"\n",
    "    z_str = f\"z = {z} \" \\\n",
    "        if z is not None else f\"\"\n",
    "    print(x_str + y_str + z_str)"
   ]
  },
  {
   "cell_type": "code",
   "execution_count": 119,
   "metadata": {},
   "outputs": [
    {
     "name": "stdout",
     "output_type": "stream",
     "text": [
      "I am decorator\n",
      "(10,)\n",
      "{}\n",
      "x = 10\n"
     ]
    }
   ],
   "source": [
    "decorated_func_w_args(10)"
   ]
  },
  {
   "cell_type": "code",
   "execution_count": 120,
   "metadata": {},
   "outputs": [
    {
     "name": "stdout",
     "output_type": "stream",
     "text": [
      "I am decorator\n",
      "(10, 20, 30)\n",
      "{}\n",
      "x = 10 y = 20 z = 30 \n"
     ]
    }
   ],
   "source": [
    "decorated_triple_print(10, 20, 30)"
   ]
  },
  {
   "cell_type": "code",
   "execution_count": 121,
   "metadata": {},
   "outputs": [],
   "source": [
    "def d1(func):\n",
    "    def _d1(*args, **kwargs):\n",
    "        print(f\"d1 here for \\\n",
    "              {func.__name__}\")\n",
    "        func(*args, **kwargs)\n",
    "    return _d1\n",
    "\n",
    "def d2(func):\n",
    "    def _d2(*args, **kwargs):\n",
    "        print(f\"d2 here for \\\n",
    "              {func.__name__}\")\n",
    "        func(*args, **kwargs)\n",
    "    return _d2\n",
    "\n",
    "@d1\n",
    "@d2\n",
    "def fd(x):\n",
    "    print(f\"f says {x}\")"
   ]
  },
  {
   "cell_type": "code",
   "execution_count": 122,
   "metadata": {},
   "outputs": [
    {
     "name": "stdout",
     "output_type": "stream",
     "text": [
      "d1 here for _d2\n",
      "d2 here for fd\n",
      "f says Bora\n"
     ]
    }
   ],
   "source": [
    "fd(\"Bora\")"
   ]
  },
  {
   "cell_type": "code",
   "execution_count": 124,
   "metadata": {},
   "outputs": [],
   "source": [
    "def function_name():\n",
    "    pass"
   ]
  },
  {
   "cell_type": "code",
   "execution_count": 125,
   "metadata": {},
   "outputs": [],
   "source": [
    "def fn(arg1, arg2):\n",
    "    return arg1 + arg2"
   ]
  },
  {
   "cell_type": "code",
   "execution_count": 126,
   "metadata": {},
   "outputs": [],
   "source": [
    "def fn(arg1 = 0, arg2 = 0):\n",
    "    return arg1 + arg2"
   ]
  },
  {
   "cell_type": "code",
   "execution_count": 127,
   "metadata": {},
   "outputs": [],
   "source": [
    "def fn(arg1: int = 0, arg2: int = 0) -> int:\n",
    "    return arg1 + arg2"
   ]
  },
  {
   "cell_type": "code",
   "execution_count": 128,
   "metadata": {},
   "outputs": [],
   "source": [
    "def fn(arg1: int|float, arg2: int|float) -> (float, float):\n",
    "    return arg1 * arg2, arg1 / arg2"
   ]
  },
  {
   "cell_type": "code",
   "execution_count": 129,
   "metadata": {},
   "outputs": [],
   "source": [
    "fn = lambda arg1, arg2: arg1 + arg2"
   ]
  },
  {
   "cell_type": "code",
   "execution_count": 130,
   "metadata": {},
   "outputs": [],
   "source": [
    "def fn(arg1 = 0, arg2 = 0):\n",
    "    \"\"\"This function sums two number.\"\"\"\n",
    "    return arg1 + arg2\n",
    "    "
   ]
  },
  {
   "cell_type": "code",
   "execution_count": 131,
   "metadata": {},
   "outputs": [],
   "source": [
    "def fn(arg1 = 0, arg2 = 0):\n",
    "    \"\"\"\n",
    "    This function sums two number.\n",
    "\n",
    "    Args:\n",
    "        arg1 (int): First number\n",
    "        arg2 (int): Second number\n",
    "\n",
    "    Returns:\n",
    "        int: Sum of two numbers\n",
    "    \"\"\"\n",
    "    return arg1 + arg2\n",
    "    "
   ]
  },
  {
   "cell_type": "code",
   "execution_count": 132,
   "metadata": {},
   "outputs": [
    {
     "data": {
      "text/plain": [
       "(0, 3, 8, 3, 5, 8)"
      ]
     },
     "execution_count": 132,
     "metadata": {},
     "output_type": "execute_result"
    }
   ],
   "source": [
    "def fn(arg1 = 0, arg2 = 0):\n",
    "    return arg1 + arg2\n",
    "\n",
    "fn(), fn(3), fn(3, 5), fn(arg1=3), fn(arg2=5), fn(arg1=3, arg2=5)"
   ]
  },
  {
   "cell_type": "code",
   "execution_count": 134,
   "metadata": {},
   "outputs": [
    {
     "ename": "TypeError",
     "evalue": "fn() takes from 0 to 2 positional arguments but 3 were given",
     "output_type": "error",
     "traceback": [
      "\u001b[0;31m---------------------------------------------------------------------------\u001b[0m",
      "\u001b[0;31mTypeError\u001b[0m                                 Traceback (most recent call last)",
      "\u001b[1;32m/Users/jabba/Codes/ParallelProgramming/Week03/try.ipynb Cell 81\u001b[0m line \u001b[0;36m4\n\u001b[1;32m      <a href='vscode-notebook-cell:/Users/jabba/Codes/ParallelProgramming/Week03/try.ipynb#Y144sZmlsZQ%3D%3D?line=0'>1</a>\u001b[0m \u001b[39mdef\u001b[39;00m \u001b[39mfn\u001b[39m(arg1 \u001b[39m=\u001b[39m \u001b[39m0\u001b[39m, arg2 \u001b[39m=\u001b[39m \u001b[39m0\u001b[39m, \u001b[39m*\u001b[39m, arg3 \u001b[39m=\u001b[39m \u001b[39m1\u001b[39m):\n\u001b[1;32m      <a href='vscode-notebook-cell:/Users/jabba/Codes/ParallelProgramming/Week03/try.ipynb#Y144sZmlsZQ%3D%3D?line=1'>2</a>\u001b[0m     \u001b[39mreturn\u001b[39;00m (arg1 \u001b[39m+\u001b[39m arg2) \u001b[39m*\u001b[39m arg3\n\u001b[0;32m----> <a href='vscode-notebook-cell:/Users/jabba/Codes/ParallelProgramming/Week03/try.ipynb#Y144sZmlsZQ%3D%3D?line=3'>4</a>\u001b[0m fn(), fn(\u001b[39m3\u001b[39m), fn(\u001b[39m3\u001b[39m, \u001b[39m5\u001b[39m), fn(\u001b[39m3\u001b[39;49m, \u001b[39m5\u001b[39;49m, \u001b[39m2\u001b[39;49m), fn(arg1\u001b[39m=\u001b[39m\u001b[39m3\u001b[39m), fn(arg2\u001b[39m=\u001b[39m\u001b[39m5\u001b[39m), fn(arg1\u001b[39m=\u001b[39m\u001b[39m3\u001b[39m, arg2\u001b[39m=\u001b[39m\u001b[39m5\u001b[39m), \n\u001b[1;32m      <a href='vscode-notebook-cell:/Users/jabba/Codes/ParallelProgramming/Week03/try.ipynb#Y144sZmlsZQ%3D%3D?line=4'>5</a>\u001b[0m fn(\u001b[39m3\u001b[39m, \u001b[39m5\u001b[39m, arg3\u001b[39m=\u001b[39m\u001b[39m2\u001b[39m), fn(arg1\u001b[39m=\u001b[39m\u001b[39m3\u001b[39m, arg2\u001b[39m=\u001b[39m\u001b[39m5\u001b[39m, arg3\u001b[39m=\u001b[39m\u001b[39m2\u001b[39m), fn(arg3\u001b[39m=\u001b[39m\u001b[39m2\u001b[39m, arg1\u001b[39m=\u001b[39m\u001b[39m3\u001b[39m, arg2\u001b[39m=\u001b[39m\u001b[39m5\u001b[39m)\n",
      "\u001b[0;31mTypeError\u001b[0m: fn() takes from 0 to 2 positional arguments but 3 were given"
     ]
    }
   ],
   "source": [
    "def fn(arg1 = 0, arg2 = 0, *, arg3 = 1):\n",
    "    return (arg1 + arg2) * arg3\n",
    "\n",
    "fn(), fn(3), fn(3, 5), fn(3, 5, 2), fn(arg1=3), fn(arg2=5), fn(arg1=3, arg2=5), \n",
    "fn(3, 5, arg3=2), fn(arg1=3, arg2=5, arg3=2), fn(arg3=2, arg1=3, arg2=5)"
   ]
  },
  {
   "cell_type": "code",
   "execution_count": 135,
   "metadata": {},
   "outputs": [
    {
     "ename": "TypeError",
     "evalue": "fn() takes from 0 to 4 positional arguments but 5 were given",
     "output_type": "error",
     "traceback": [
      "\u001b[0;31m---------------------------------------------------------------------------\u001b[0m",
      "\u001b[0;31mTypeError\u001b[0m                                 Traceback (most recent call last)",
      "\u001b[1;32m/Users/jabba/Codes/ParallelProgramming/Week03/try.ipynb Cell 82\u001b[0m line \u001b[0;36m4\n\u001b[1;32m      <a href='vscode-notebook-cell:/Users/jabba/Codes/ParallelProgramming/Week03/try.ipynb#Y145sZmlsZQ%3D%3D?line=0'>1</a>\u001b[0m \u001b[39mdef\u001b[39;00m \u001b[39mfn\u001b[39m(arg1\u001b[39m=\u001b[39m\u001b[39m0\u001b[39m, arg2\u001b[39m=\u001b[39m\u001b[39m0\u001b[39m, \u001b[39m/\u001b[39m, arg3\u001b[39m=\u001b[39m\u001b[39m1\u001b[39m, arg4\u001b[39m=\u001b[39m\u001b[39m1\u001b[39m, \u001b[39m*\u001b[39m, arg5\u001b[39m=\u001b[39m\u001b[39m1\u001b[39m, arg6\u001b[39m=\u001b[39m\u001b[39m1\u001b[39m):\n\u001b[1;32m      <a href='vscode-notebook-cell:/Users/jabba/Codes/ParallelProgramming/Week03/try.ipynb#Y145sZmlsZQ%3D%3D?line=1'>2</a>\u001b[0m     \u001b[39mreturn\u001b[39;00m (arg1 \u001b[39m+\u001b[39m arg2) \u001b[39m*\u001b[39m arg3 \u001b[39m/\u001b[39m arg4 \u001b[39m*\u001b[39m arg5\u001b[39m*\u001b[39m\u001b[39m*\u001b[39marg6\n\u001b[0;32m----> <a href='vscode-notebook-cell:/Users/jabba/Codes/ParallelProgramming/Week03/try.ipynb#Y145sZmlsZQ%3D%3D?line=3'>4</a>\u001b[0m fn(), fn(\u001b[39m3\u001b[39m), fn(\u001b[39m3\u001b[39m, \u001b[39m5\u001b[39m), fn(\u001b[39m3\u001b[39m, \u001b[39m5\u001b[39m, \u001b[39m2\u001b[39m), fn(\u001b[39m3\u001b[39m, \u001b[39m5\u001b[39m, \u001b[39m2\u001b[39m, \u001b[39m4\u001b[39m), fn(\u001b[39m3\u001b[39;49m, \u001b[39m5\u001b[39;49m, \u001b[39m2\u001b[39;49m, \u001b[39m4\u001b[39;49m, \u001b[39m7\u001b[39;49m), \n\u001b[1;32m      <a href='vscode-notebook-cell:/Users/jabba/Codes/ParallelProgramming/Week03/try.ipynb#Y145sZmlsZQ%3D%3D?line=4'>5</a>\u001b[0m fn(\u001b[39m3\u001b[39m, \u001b[39m5\u001b[39m, arg3\u001b[39m=\u001b[39m\u001b[39m2\u001b[39m, arg4\u001b[39m=\u001b[39m\u001b[39m4\u001b[39m), fn(arg1\u001b[39m=\u001b[39m\u001b[39m3\u001b[39m, arg2\u001b[39m=\u001b[39m\u001b[39m5\u001b[39m, arg3\u001b[39m=\u001b[39m\u001b[39m2\u001b[39m, arg4\u001b[39m=\u001b[39m\u001b[39m4\u001b[39m),\n\u001b[1;32m      <a href='vscode-notebook-cell:/Users/jabba/Codes/ParallelProgramming/Week03/try.ipynb#Y145sZmlsZQ%3D%3D?line=5'>6</a>\u001b[0m fn(\u001b[39m3\u001b[39m, \u001b[39m5\u001b[39m, arg3\u001b[39m=\u001b[39m\u001b[39m2\u001b[39m, arg4\u001b[39m=\u001b[39m\u001b[39m4\u001b[39m, arg5\u001b[39m=\u001b[39m\u001b[39m7\u001b[39m, arg6\u001b[39m=\u001b[39m\u001b[39m8\u001b[39m), fn(\u001b[39m3\u001b[39m, \u001b[39m5\u001b[39m, \u001b[39m2\u001b[39m, \u001b[39m4\u001b[39m, arg5\u001b[39m=\u001b[39m\u001b[39m7\u001b[39m, arg6\u001b[39m=\u001b[39m\u001b[39m8\u001b[39m), \n",
      "\u001b[0;31mTypeError\u001b[0m: fn() takes from 0 to 4 positional arguments but 5 were given"
     ]
    }
   ],
   "source": [
    "def fn(arg1=0, arg2=0, /, arg3=1, arg4=1, *, arg5=1, arg6=1):\n",
    "    return (arg1 + arg2) * arg3 / arg4 * arg5**arg6\n",
    "\n",
    "fn(), fn(3), fn(3, 5), fn(3, 5, 2), fn(3, 5, 2, 4), fn(3, 5, 2, 4, 7), \n",
    "fn(3, 5, arg3=2, arg4=4), fn(arg1=3, arg2=5, arg3=2, arg4=4),\n",
    "fn(3, 5, arg3=2, arg4=4, arg5=7, arg6=8), fn(3, 5, 2, 4, arg5=7, arg6=8), \n",
    "fn(arg1=3, arg2=5, arg3=2, arg4=4, arg5=7, arg6=8)"
   ]
  },
  {
   "cell_type": "code",
   "execution_count": 136,
   "metadata": {},
   "outputs": [
    {
     "ename": "SyntaxError",
     "evalue": "positional argument follows keyword argument (1182423341.py, line 6)",
     "output_type": "error",
     "traceback": [
      "\u001b[0;36m  Cell \u001b[0;32mIn[136], line 6\u001b[0;36m\u001b[0m\n\u001b[0;31m    fn(3, 5, x=2, y=4, 1, 2)\u001b[0m\n\u001b[0m                           ^\u001b[0m\n\u001b[0;31mSyntaxError\u001b[0m\u001b[0;31m:\u001b[0m positional argument follows keyword argument\n"
     ]
    }
   ],
   "source": [
    "def fn(*args, **kwargs):\n",
    "    print(args) # a tuple of positional arguments\n",
    "    print(kwargs) # a dictionary of keyword arguments\n",
    "\n",
    "fn(), fn(3), fn(3, 5), fn(x=3, y=5), fn(3, 5, x=2, y=4),\n",
    "fn(3, 5, x=2, y=4, 1, 2)"
   ]
  },
  {
   "cell_type": "code",
   "execution_count": 23,
   "metadata": {},
   "outputs": [],
   "source": [
    "custom_power = lambda x=0, /, e=1: x**e\n",
    "\n",
    "def custom_equation(x: int = 0, y: int = 0, /, a: int = 1, b: int = 1, *, c: int = 1) -> float:\n",
    "    \"\"\"\n",
    "    This function calculates a custom equation.\n",
    "    Parameters x and y are positional-only.\n",
    "    Parameters a and b are positional-or-keyword.\n",
    "    Parameter c is keyword-only.\n",
    "    Default values are 0 for x and y, 1 for a, b and c.\n",
    "    Returns an integer.\n",
    "\n",
    "    :param x: first integer with default value 0 (positional-only)\n",
    "    :param y: second integer with default value 0 (positional-only)\n",
    "    :param a: third integer with default value 1 (positional-or-keyword)\n",
    "    :param b: fourth integer with default value 1 (positional-or-keyword)\n",
    "    :param c: fifth integer with default value 1 (keyword-only)\n",
    "    :return: result of the custom equation\n",
    "    :raises TypeError: if x, y, a, b or c is not an integer\n",
    "    \"\"\"\n",
    "    if not isinstance(x, int):\n",
    "        raise TypeError(\"x must be an integer\")\n",
    "    if not isinstance(y, int):\n",
    "        raise TypeError(\"y must be an integer\")\n",
    "    if not isinstance(a, int):\n",
    "        raise TypeError(\"a must be an integer\")\n",
    "    if not isinstance(b, int):\n",
    "        raise TypeError(\"b must be an integer\")\n",
    "    if not isinstance(c, int):\n",
    "        raise TypeError(\"c must be an integer\")\n",
    "    return float((x**a + y**b) / c)\n",
    "\n",
    "def fn_w_counter() -> (int, dict[str, int]):\n",
    "    if not hasattr(fn_w_counter, 'counter'):\n",
    "        fn_w_counter.counter = 0\n",
    "    fn_w_counter.counter += 1\n",
    "    if not hasattr(fn_w_counter, 'callers'):\n",
    "        fn_w_counter.callers = {f\"{__name__}\": 1}\n",
    "    else:\n",
    "        if __name__ in fn_w_counter.callers:\n",
    "            fn_w_counter.callers[__name__] += 1\n",
    "        else:\n",
    "            fn_w_counter.callers[__name__] = 1\n",
    "    return fn_w_counter.counter, fn_w_counter.callers\n"
   ]
  },
  {
   "cell_type": "code",
   "execution_count": 24,
   "metadata": {},
   "outputs": [
    {
     "data": {
      "text/plain": [
       "True"
      ]
     },
     "execution_count": 24,
     "metadata": {},
     "output_type": "execute_result"
    }
   ],
   "source": [
    "custom_power(2) == 2\n",
    "custom_power(2, 3) == 8\n",
    "custom_power(2, e=2) == 4\n",
    "custom_equation(2, 3) == 5.0\n",
    "custom_equation(2, 3, 2) == 7.0\n",
    "custom_equation(2, 3, 2, 3) == 31.0\n",
    "custom_equation(3, 5, a=2, b=3, c=4) == 33.5\n",
    "custom_equation(3, 5, 2, b=3, c=4) == 33.5\n",
    "custom_equation(3, 5, 2, 3, c=4) == 33.5\n",
    "for i in range(10):\n",
    "    fn_w_counter()\n",
    "fn_w_counter() == (11, {'__main__': 11})"
   ]
  },
  {
   "cell_type": "code",
   "execution_count": null,
   "metadata": {},
   "outputs": [],
   "source": []
  }
 ],
 "metadata": {
  "kernelspec": {
   "display_name": "latest",
   "language": "python",
   "name": "python3"
  },
  "language_info": {
   "codemirror_mode": {
    "name": "ipython",
    "version": 3
   },
   "file_extension": ".py",
   "mimetype": "text/x-python",
   "name": "python",
   "nbconvert_exporter": "python",
   "pygments_lexer": "ipython3",
   "version": "3.12.0"
  }
 },
 "nbformat": 4,
 "nbformat_minor": 2
}
